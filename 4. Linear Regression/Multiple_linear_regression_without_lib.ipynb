{
 "cells": [
  {
   "cell_type": "code",
   "execution_count": 30,
   "id": "8a3547eb-afb7-4795-a3d5-001e26f6109d",
   "metadata": {},
   "outputs": [],
   "source": [
    "import numpy as np\n",
    "import matplotlib.pyplot as plt\n",
    "import pandas as pd"
   ]
  },
  {
   "cell_type": "code",
   "execution_count": 31,
   "id": "14bc6ff1-5694-4e6c-86e7-645a7f540f6a",
   "metadata": {},
   "outputs": [],
   "source": [
    "dataset = pd.read_csv('50_Startups.csv')\n",
    "X = dataset.iloc[:, :-1].values\n",
    "y = dataset.iloc[:, -1].values"
   ]
  },
  {
   "cell_type": "code",
   "execution_count": 32,
   "id": "0af2a0c9-df74-41a6-9ce4-3439e12a5508",
   "metadata": {},
   "outputs": [
    {
     "name": "stdout",
     "output_type": "stream",
     "text": [
      "[[165349.2 136897.8 471784.1 'New York']\n",
      " [162597.7 151377.59 443898.53 'California']\n",
      " [153441.51 101145.55 407934.54 'Florida']\n",
      " [144372.41 118671.85 383199.62 'New York']\n",
      " [142107.34 91391.77 366168.42 'Florida']\n",
      " [131876.9 99814.71 362861.36 'New York']\n",
      " [134615.46 147198.87 127716.82 'California']\n",
      " [130298.13 145530.06 323876.68 'Florida']\n",
      " [120542.52 148718.95 311613.29 'New York']\n",
      " [123334.88 108679.17 304981.62 'California']]\n"
     ]
    }
   ],
   "source": [
    "print(X[:10, :])"
   ]
  },
  {
   "cell_type": "code",
   "execution_count": 33,
   "id": "1e734d10-01a6-46cb-bab7-3a2d0dc4458d",
   "metadata": {},
   "outputs": [],
   "source": [
    "from sklearn.compose import ColumnTransformer\n",
    "from sklearn.preprocessing import OneHotEncoder\n",
    "ct = ColumnTransformer(transformers=[('encoder', OneHotEncoder(drop='first'), [3])], remainder='passthrough')\n",
    "X = np.array(ct.fit_transform(X), dtype=np.float64)"
   ]
  },
  {
   "cell_type": "code",
   "execution_count": 34,
   "id": "988ab638-5a67-4052-b88a-96cf09eb0dd2",
   "metadata": {},
   "outputs": [
    {
     "name": "stdout",
     "output_type": "stream",
     "text": [
      "[[0.00e+00 1.00e+00 1.65e+05 1.37e+05 4.72e+05]\n",
      " [0.00e+00 0.00e+00 1.63e+05 1.51e+05 4.44e+05]\n",
      " [1.00e+00 0.00e+00 1.53e+05 1.01e+05 4.08e+05]\n",
      " [0.00e+00 1.00e+00 1.44e+05 1.19e+05 3.83e+05]\n",
      " [1.00e+00 0.00e+00 1.42e+05 9.14e+04 3.66e+05]\n",
      " [0.00e+00 1.00e+00 1.32e+05 9.98e+04 3.63e+05]\n",
      " [0.00e+00 0.00e+00 1.35e+05 1.47e+05 1.28e+05]\n",
      " [1.00e+00 0.00e+00 1.30e+05 1.46e+05 3.24e+05]\n",
      " [0.00e+00 1.00e+00 1.21e+05 1.49e+05 3.12e+05]\n",
      " [0.00e+00 0.00e+00 1.23e+05 1.09e+05 3.05e+05]]\n"
     ]
    }
   ],
   "source": [
    "print(X[:10,:])"
   ]
  },
  {
   "cell_type": "code",
   "execution_count": 35,
   "id": "132f88e4-87ea-4a6b-ad68-ccebe8ff123e",
   "metadata": {},
   "outputs": [],
   "source": [
    "from sklearn.model_selection import train_test_split\n",
    "X_train, X_test, y_train, y_test = train_test_split(X, y, test_size = 0.2, random_state = 0)"
   ]
  },
  {
   "cell_type": "code",
   "execution_count": 36,
   "id": "14a800e8-44ec-4c46-a190-f74c02875eb7",
   "metadata": {},
   "outputs": [],
   "source": [
    "#X matrisinin soluna 1'den oluşan bir sütun ekle.Her örnek satırının başında bulunan 1 ilk theta parametresi ile çarpılarak biasin öğrenimini sağlar.\n",
    "X_train_b = np.hstack((np.ones((X_train.shape[0], 1)), X_train))\n",
    "X_test_b = np.hstack((np.ones((X_test.shape[0], 1)), X_test))"
   ]
  },
  {
   "cell_type": "code",
   "execution_count": 37,
   "id": "4f088026-43ca-43cc-8bbb-18391a347483",
   "metadata": {},
   "outputs": [
    {
     "name": "stdout",
     "output_type": "stream",
     "text": [
      "Beta katsayıları: [ 4.26e+04 -9.59e+02  6.99e+02  7.73e-01  3.29e-02  3.66e-02]\n"
     ]
    }
   ],
   "source": [
    "beta = np.linalg.inv(X_train_b.T.dot(X_train_b)).dot(X_train_b.T).dot(y_train)\n",
    "print(\"Beta katsayıları:\", beta)"
   ]
  },
  {
   "cell_type": "code",
   "execution_count": 38,
   "id": "8b0b70a1-aa3b-42ea-b084-0a6ba03c3971",
   "metadata": {},
   "outputs": [],
   "source": [
    "y_pred = X_test_b @ beta"
   ]
  },
  {
   "cell_type": "code",
   "execution_count": 39,
   "id": "b940f5e7-244a-44e8-bd44-b4e57448dca0",
   "metadata": {},
   "outputs": [
    {
     "name": "stdout",
     "output_type": "stream",
     "text": [
      "[[103015.2  103282.38]\n",
      " [132582.28 144259.4 ]\n",
      " [132447.74 146121.95]\n",
      " [ 71976.1   77798.83]\n",
      " [178537.48 191050.39]\n",
      " [116161.24 105008.31]\n",
      " [ 67851.69  81229.06]\n",
      " [ 98791.73  97483.56]\n",
      " [113969.44 110352.25]\n",
      " [167921.07 166187.94]]\n",
      "R² skoru: 0.9347068473282446\n",
      "Ortalama Kare Hatası (MSE): 83502864.03257468\n",
      "Karekök Ortalama Kare Hatası (RMSE): 9137.990152794797\n"
     ]
    }
   ],
   "source": [
    "from sklearn.metrics import r2_score, mean_squared_error\n",
    "\n",
    "np.set_printoptions(precision=2)\n",
    "print(np.concatenate((y_pred.reshape(-1,1), y_test.reshape(-1,1)), axis=1))\n",
    "\n",
    "mse = mean_squared_error(y_test, y_pred)\n",
    "rmse = np.sqrt(mse)\n",
    "r2 = r2_score(y_test, y_pred)\n",
    "\n",
    "print(\"R² skoru:\", r2)\n",
    "print(\"Ortalama Kare Hatası (MSE):\", mse)\n",
    "print(\"Karekök Ortalama Kare Hatası (RMSE):\", rmse)"
   ]
  }
 ],
 "metadata": {
  "kernelspec": {
   "display_name": "Python 3 (ipykernel)",
   "language": "python",
   "name": "python3"
  },
  "language_info": {
   "codemirror_mode": {
    "name": "ipython",
    "version": 3
   },
   "file_extension": ".py",
   "mimetype": "text/x-python",
   "name": "python",
   "nbconvert_exporter": "python",
   "pygments_lexer": "ipython3",
   "version": "3.12.7"
  }
 },
 "nbformat": 4,
 "nbformat_minor": 5
}
