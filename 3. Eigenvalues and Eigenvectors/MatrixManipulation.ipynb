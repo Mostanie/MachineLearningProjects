{
 "cells": [
  {
   "cell_type": "markdown",
   "id": "c75e3803-b928-442f-b93c-e7a1671bcb89",
   "metadata": {},
   "source": [
    "<span style=\"color:blue; font-size:35px\">MATRİS MANİPÜLASYONU</span>"
   ]
  },
  {
   "cell_type": "markdown",
   "id": "0357f731-9e67-44eb-8c70-0825d908d937",
   "metadata": {},
   "source": [
    "<span style=\"font-size:20px\">Matris manipülasyonu kavramı matrisler üzerinde yapılan matematik işlemlerini ifade eder. Bu işlemler toplama, çıkarma, skaler çarpım gibi işlemlerdir. Şimdi bu işlemleri kodlar üzerinde inceleyelim.</span>"
   ]
  },
  {
   "cell_type": "markdown",
   "id": "a8078e5c-579f-4ac4-8a12-f6ca89bab13b",
   "metadata": {},
   "source": [
    "<span style=\"color:red; font-size:15px\">Kaynakça:</span> <span style=\"font-size:15px\">https://machinelearningmastery.com/introduction-matrices-machine-learning/</span>"
   ]
  },
  {
   "cell_type": "markdown",
   "id": "b4b181bc-6552-4fec-adbc-38b4cef7de54",
   "metadata": {},
   "source": [
    "<br><span style=\"font-size:20px\">Öncelikle çalışmamıza matrislerin ne olduğunu öğrenerek başlayalım.<br>\n",
    "Matrisler bir veya daha fazla satır ve sütundan oluşan ve elemanları sayılar olan iki boyutlu dizilerdir.</span>"
   ]
  },
  {
   "cell_type": "markdown",
   "id": "3d59dfa1-6d17-4a07-aad8-534e35891e6a",
   "metadata": {},
   "source": [
    "<br><span style=\"font-size:25px; color:red\"> Bir Matrisin Tanımlanması</span>"
   ]
  },
  {
   "cell_type": "code",
   "execution_count": 13,
   "id": "1a15aad0-2cc3-48ad-8bd3-69b1fe6b01f8",
   "metadata": {},
   "outputs": [
    {
     "name": "stdout",
     "output_type": "stream",
     "text": [
      "[[1 2 3]\n",
      " [4 5 6]]\n"
     ]
    }
   ],
   "source": [
    "from numpy import array\n",
    "A = array([[1, 2, 3], [4, 5, 6]])\n",
    "print(A)"
   ]
  },
  {
   "cell_type": "markdown",
   "id": "1fd4591e-db3a-4bb2-aa44-dee8acf2b64e",
   "metadata": {},
   "source": [
    "<br><span style=\"font-size:25px; color:red\"> Matrislerde Toplama İşlemi</span>"
   ]
  },
  {
   "cell_type": "code",
   "execution_count": 14,
   "id": "0b0e684f-e239-447a-8797-87161e309869",
   "metadata": {},
   "outputs": [
    {
     "name": "stdout",
     "output_type": "stream",
     "text": [
      "\n",
      "A = \n",
      " [[1 2 3]\n",
      " [4 5 6]]\n",
      "\n",
      "B = \n",
      " [[1 2 3]\n",
      " [4 5 6]]\n",
      "\n",
      "C = \n",
      " [[ 2  4  6]\n",
      " [ 8 10 12]]\n"
     ]
    }
   ],
   "source": [
    "A = array([[1, 2, 3], [4, 5, 6]])\n",
    "print(\"\\nA = \\n\",A)\n",
    "B = array([[1, 2, 3], [4, 5, 6]])\n",
    "print(\"\\nB = \\n\",B)\n",
    "C = A + B\n",
    "print(\"\\nC = \\n\",C)"
   ]
  },
  {
   "cell_type": "markdown",
   "id": "90bbf580-d6a2-4e9e-b236-a11d3e0339c5",
   "metadata": {},
   "source": [
    "<span style=\"font-size:17px\">Buradaki dikkat edilmesi gereken nokta matrislerde çarpım(dot product) başlığına kadar olan kısmın hepsinde işleme girecek olan iki matrisin boyutlarının eşit olması gerekliliği(satır ve sütun sayısı bakımından) ve bu işlemlerin matrislerde aynı konumdaki elemanlar arasında (C[1,0] = A[1,0] + B[1,0]) yapıldığıdır.</span>"
   ]
  },
  {
   "cell_type": "markdown",
   "id": "d2c5f459-da2e-481d-add7-52764c5af6e2",
   "metadata": {},
   "source": [
    "<br><span style=\"font-size:25px; color:red\"> Matrislerde Çıkarma İşlemi</span>"
   ]
  },
  {
   "cell_type": "code",
   "execution_count": 15,
   "id": "ac696a69-969e-494d-a463-0e09c9999fe7",
   "metadata": {},
   "outputs": [
    {
     "name": "stdout",
     "output_type": "stream",
     "text": [
      "\n",
      "A = \n",
      " [[1 2 3]\n",
      " [4 5 6]]\n",
      "\n",
      "B = \n",
      " [[0.5 0.5 0.5]\n",
      " [0.5 0.5 0.5]]\n",
      "\n",
      "C = \n",
      " [[0.5 1.5 2.5]\n",
      " [3.5 4.5 5.5]]\n"
     ]
    }
   ],
   "source": [
    "A = array([[1, 2, 3], [4, 5, 6]])\n",
    "print(\"\\nA = \\n\",A)\n",
    "B = array([[0.5, 0.5, 0.5], [0.5, 0.5, 0.5]])\n",
    "print(\"\\nB = \\n\",B)\n",
    "C = A - B\n",
    "print(\"\\nC = \\n\",C)"
   ]
  },
  {
   "cell_type": "markdown",
   "id": "1e4e53f7-748b-45ff-a35c-112cdbf04270",
   "metadata": {},
   "source": [
    "<br><span style=\"font-size:25px; color:red\"> Matrislerde Hadamard Çarpması</span>"
   ]
  },
  {
   "cell_type": "code",
   "execution_count": 16,
   "id": "73df4d9a-7fa2-48e3-8217-418dd6e197be",
   "metadata": {},
   "outputs": [
    {
     "name": "stdout",
     "output_type": "stream",
     "text": [
      "\n",
      "A = \n",
      " [[1 2 3]\n",
      " [4 5 6]]\n",
      "\n",
      "B = \n",
      " [[1 2 3]\n",
      " [4 5 6]]\n",
      "\n",
      "C = \n",
      " [[ 1  4  9]\n",
      " [16 25 36]]\n"
     ]
    }
   ],
   "source": [
    "A = array([[1, 2, 3], [4, 5, 6]])\n",
    "print(\"\\nA = \\n\",A)\n",
    "B = array([[1, 2, 3], [4, 5, 6]])\n",
    "print(\"\\nB = \\n\",B)\n",
    "C = A * B\n",
    "print(\"\\nC = \\n\",C)"
   ]
  },
  {
   "cell_type": "markdown",
   "id": "667a6ef7-e63f-4ebe-be80-96af6d4b7da4",
   "metadata": {},
   "source": [
    "<br><span style=\"font-size:25px; color:red\"> Matrislerde Bölme İşlemi</span>"
   ]
  },
  {
   "cell_type": "code",
   "execution_count": 17,
   "id": "1a58eeef-a92d-4b8d-97ec-1a7015857101",
   "metadata": {},
   "outputs": [
    {
     "name": "stdout",
     "output_type": "stream",
     "text": [
      "\n",
      "A = \n",
      " [[14  2  3]\n",
      " [24 19 12]]\n",
      "\n",
      "B = \n",
      " [[7 1 3]\n",
      " [4 5 6]]\n",
      "\n",
      "C = \n",
      " [[2.  2.  1. ]\n",
      " [6.  3.8 2. ]]\n"
     ]
    }
   ],
   "source": [
    "A = array([[14, 2, 3], [24, 19, 12]])\n",
    "print(\"\\nA = \\n\",A)\n",
    "B = array([[7, 1, 3], [4, 5, 6]])\n",
    "print(\"\\nB = \\n\",B)\n",
    "C = A / B\n",
    "print(\"\\nC = \\n\",C)"
   ]
  },
  {
   "cell_type": "markdown",
   "id": "e1482077-e7a5-46b9-a57e-1742834e2d35",
   "metadata": {},
   "source": [
    "<br><span style=\"font-size:25px; color:red\"> Matrislerde Çarpma (Dot Product)</span>"
   ]
  },
  {
   "cell_type": "markdown",
   "id": "fd8d4c38-59c8-41f0-b727-6dd0a38ccf58",
   "metadata": {},
   "source": [
    "<br><span style=\"font-size:15px;\">Matris çarpımı için boyut uygunluğuna şu şekilde bakılır:\n",
    "İlk matrisin(A) sütun sayısı(n) ile ikinci matrisin(B) satır sayısı(m) eşit olmalıdır. <br>\n",
    "Eğer ilk matrisin(A) m satır ve n sütundan oluştuğunu ve ikinci matrisin(B) de n satır ve k sütundan oluştuğunu kabul edersek bu iki vektörün\n",
    "çarpımı ile oluşan C matrisi m satır ve k sütuna sahip olur.\n",
    "<br><br>Bu çarpımı uygulamak için A matrisinin her satırını B matrisinin her sütunu ile tek tek nokta çarpımına sokarız.</span>"
   ]
  },
  {
   "cell_type": "markdown",
   "id": "68f2fad4-e235-43b3-8f2c-c928bf2ec5e4",
   "metadata": {},
   "source": [
    "![Matris çarpımını şekil üzerinde inceleyerek daha iyi anlayalım:](MatrixMultiplication.png)"
   ]
  },
  {
   "cell_type": "code",
   "execution_count": 18,
   "id": "f9cfb441-266f-4660-8178-27a2b57e584d",
   "metadata": {},
   "outputs": [
    {
     "name": "stdout",
     "output_type": "stream",
     "text": [
      "\n",
      "A = \n",
      " [[1 2]\n",
      " [3 4]\n",
      " [5 6]]\n",
      "\n",
      "B = \n",
      " [[1 2]\n",
      " [3 4]]\n",
      "\n",
      "C = \n",
      " [[ 7 10]\n",
      " [15 22]\n",
      " [23 34]]\n"
     ]
    }
   ],
   "source": [
    "A = array([[1, 2], [3, 4], [5, 6]])\n",
    "print(\"\\nA = \\n\",A)\n",
    "B = array([[1, 2], [3, 4]])\n",
    "print(\"\\nB = \\n\",B)\n",
    "C = A.dot(B)\n",
    "print(\"\\nC = \\n\",C)"
   ]
  },
  {
   "cell_type": "markdown",
   "id": "ff55d307-7e00-4b8b-ad51-02074bcdc73a",
   "metadata": {},
   "source": [
    "<br><span style=\"font-size:25px; color:red\"> Matris-Skaler Çarpımı</span>"
   ]
  },
  {
   "cell_type": "markdown",
   "id": "3e53442d-ecae-4222-a317-2a5c22d11b9d",
   "metadata": {},
   "source": [
    "<span style=\"font-size:15px;\">C[0,0] = A[0,0] * b<br>C[1,0] = A[1,0] * b<br>C[2,0] = A[2,0] * b ....</span>"
   ]
  },
  {
   "cell_type": "code",
   "execution_count": 19,
   "id": "e097b3ef-28ca-4500-960e-aa3f8f98dac7",
   "metadata": {},
   "outputs": [
    {
     "name": "stdout",
     "output_type": "stream",
     "text": [
      "\n",
      "A = \n",
      " [[1 2]\n",
      " [3 4]\n",
      " [5 6]]\n",
      "\n",
      "b =  0.5\n",
      "\n",
      "C = \n",
      " [[0.5 1. ]\n",
      " [1.5 2. ]\n",
      " [2.5 3. ]]\n"
     ]
    }
   ],
   "source": [
    "A = array([[1, 2], [3, 4], [5, 6]])\n",
    "print(\"\\nA = \\n\",A)\n",
    "b = 0.5\n",
    "print(\"\\nb = \",b)\n",
    "C = A * b\n",
    "print(\"\\nC = \\n\",C)"
   ]
  }
 ],
 "metadata": {
  "kernelspec": {
   "display_name": "Python 3 (ipykernel)",
   "language": "python",
   "name": "python3"
  },
  "language_info": {
   "codemirror_mode": {
    "name": "ipython",
    "version": 3
   },
   "file_extension": ".py",
   "mimetype": "text/x-python",
   "name": "python",
   "nbconvert_exporter": "python",
   "pygments_lexer": "ipython3",
   "version": "3.12.7"
  }
 },
 "nbformat": 4,
 "nbformat_minor": 5
}
