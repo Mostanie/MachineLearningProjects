{
 "cells": [
  {
   "cell_type": "markdown",
   "id": "7dd32e2d-11f6-46fe-820a-46b437f3c308",
   "metadata": {},
   "source": [
    "<span style=\"color:blue; font-size:25px\">linalg.eig</span>"
   ]
  },
  {
   "cell_type": "markdown",
   "id": "6a01720e-4858-46dc-92dd-7c21ba702ec6",
   "metadata": {},
   "source": [
    "<span style=\"color:red; font-size:15px\">Kaynakça: https://numpy.org/doc/2.1/reference/generated/numpy.linalg.eig.html</span>"
   ]
  },
  {
   "cell_type": "markdown",
   "id": "1a9119c9-4fbf-47ba-a906-dbc87cee2b74",
   "metadata": {},
   "source": [
    "<span style=\"font-size:15px\">linalg.eig(a) fonksiyonu kare matrislerin özdeğerlerini ve sağ özvektörlerini hesaplar. Parametre olarak özdeğerleri ve özvektörleri hesaplanmak istenen matris girilir. Fonksiyon işlemlerinin sonucunda özdeğerleri ve özvektörleri döndürür. Özdeğerler belli bir değere yakınsamıyorsa da belli bir hata değeri döndürür.<br>\n",
    "Bir w değerinin a matrisinin özdeğeri olabilmesi için a @ v = w * v eşitliğini sağlaması gerekir. Buradaki v de özvektördür.</span>\n"
   ]
  },
  {
   "cell_type": "code",
   "execution_count": 5,
   "id": "ae04ae0a-1fe4-4acf-a501-2abadd2de313",
   "metadata": {},
   "outputs": [
    {
     "name": "stdout",
     "output_type": "stream",
     "text": [
      "eigen values =  [1. 2. 3.]\n",
      "\n",
      "eigen vectors = \n",
      " [[1. 0. 0.]\n",
      " [0. 1. 0.]\n",
      " [0. 0. 1.]]\n"
     ]
    }
   ],
   "source": [
    "import numpy as np\n",
    "from numpy import linalg as LA\n",
    "eigenvalues, eigenvectors = LA.eig(np.diag((1, 2, 3)))\n",
    "print(\"eigen values = \",eigenvalues)\n",
    "\n",
    "print(\"\\neigen vectors = \\n\",eigenvectors)"
   ]
  },
  {
   "cell_type": "code",
   "execution_count": null,
   "id": "285b9c16-c9ad-4dc7-b1fd-91e13e1dd282",
   "metadata": {},
   "outputs": [],
   "source": [
    "def eig(a):#a, özdeğer ve özvektörleri bulunmak istenen kare (n x n) bir matristir.\n",
    "    a, wrap = _makearray(a) #a, numpy dizisi haline getirilir.\n",
    "    _assert_stacked_square(a) # a matrisinin kare olup olmadığının kontrolü\n",
    "    _assert_finite(a) #Matrisin içinde sonsuz ya da tanımsız değerlerin varlığını kontrol eder.\n",
    "    t, result_t = _commonType(a) # Veri tiplerini ayarlar.\n",
    "\n",
    "    signature = 'D->DD' if isComplexType(t) else 'd->DD' # Karmaşık matrisler için D->DD imzası, gerçek matrisler için d->DD imzası kullanılır.\n",
    "\n",
    "    with errstate(call=_raise_linalgerror_eigenvalues_nonconvergence, # burada hatalara bakılır, daha önce bahsettiğimiz yakınsama hatası gibi\n",
    "                  invalid='call', over='ignore', divide='ignore',\n",
    "                  under='ignore'):\n",
    "        w, vt = _umath_linalg.eig(a, signature=signature) # NumPy kütüphanesinin C kütüphaneleri üzerinden özdeğer ve özvektör hesaplamasını yapan fonksiyon.\n",
    "\n",
    "    if not isComplexType(t) and all(w.imag == 0.0): # Sonuçlar karmaşık mı?\n",
    "        w = w.real\n",
    "        vt = vt.real\n",
    "        result_t = _realType(result_t)\n",
    "    else:\n",
    "        result_t = _complexType(result_t)\n",
    "\n",
    "    vt = vt.astype(result_t, copy=False) # Özvektör tip dönüşümü\n",
    "    return EigResult(w.astype(result_t, copy=False), wrap(vt))"
   ]
  }
 ],
 "metadata": {
  "kernelspec": {
   "display_name": "Python 3 (ipykernel)",
   "language": "python",
   "name": "python3"
  },
  "language_info": {
   "codemirror_mode": {
    "name": "ipython",
    "version": 3
   },
   "file_extension": ".py",
   "mimetype": "text/x-python",
   "name": "python",
   "nbconvert_exporter": "python",
   "pygments_lexer": "ipython3",
   "version": "3.12.7"
  }
 },
 "nbformat": 4,
 "nbformat_minor": 5
}
