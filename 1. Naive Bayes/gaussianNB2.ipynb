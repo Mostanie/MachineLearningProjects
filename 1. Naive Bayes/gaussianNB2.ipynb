{
 "cells": [
  {
   "cell_type": "code",
   "execution_count": null,
   "id": "0a97e778-d774-4511-a48f-661aba184d31",
   "metadata": {},
   "outputs": [],
   "source": [
    "import numpy as np\n",
    "\n",
    "class GaussianNB:\n",
    "    def __init__(self, var_smoothing=1e-9):\n",
    "        self.var_smoothing = var_smoothing\n",
    "\n",
    "    def fit(self, X, y):\n",
    "        self.classes_ = np.unique(y)\n",
    "        n_features = X.shape[1]\n",
    "        n_classes = len(self.classes_)\n",
    "\n",
    "        self.theta_ = np.zeros((n_classes, n_features))\n",
    "        self.var_ = np.zeros((n_classes, n_features))\n",
    "        self.class_prior_ = np.zeros(n_classes)\n",
    "\n",
    "        for i, c in enumerate(self.classes_):\n",
    "            X_c = X[y == c]\n",
    "            self.theta_[i] = np.mean(X_c, axis=0)\n",
    "            self.var_[i] = np.var(X_c, axis=0) + self.var_smoothing\n",
    "            self.class_prior_[i] = X_c.shape[0] / X.shape[0]\n",
    "\n",
    "    def predict(self, X):\n",
    "        log_likelihood = []\n",
    "        for i in range(len(self.classes_)):\n",
    "            prior = np.log(self.class_prior_[i])\n",
    "            likelihood = -0.5 * np.sum(np.log(2 * np.pi * self.var_[i]))\n",
    "            likelihood -= 0.5 * np.sum(((X - self.theta_[i]) ** 2) / self.var_[i], axis=1)\n",
    "            log_likelihood.append(prior + likelihood)\n",
    "\n",
    "        return self.classes_[np.argmax(np.array(log_likelihood).T, axis=1)]"
   ]
  }
 ],
 "metadata": {
  "kernelspec": {
   "display_name": "Python 3 (ipykernel)",
   "language": "python",
   "name": "python3"
  },
  "language_info": {
   "codemirror_mode": {
    "name": "ipython",
    "version": 3
   },
   "file_extension": ".py",
   "mimetype": "text/x-python",
   "name": "python",
   "nbconvert_exporter": "python",
   "pygments_lexer": "ipython3",
   "version": "3.12.7"
  }
 },
 "nbformat": 4,
 "nbformat_minor": 5
}
