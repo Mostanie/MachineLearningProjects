{
 "cells": [
  {
   "cell_type": "code",
   "execution_count": null,
   "id": "d2ab1aa2-d53b-4da1-80a4-46fcb023d9bf",
   "metadata": {},
   "outputs": [],
   "source": [
    "import numpy as np\n",
    "import pandas as pd\n",
    "import matplotlib.pyplot as plt"
   ]
  },
  {
   "cell_type": "code",
   "execution_count": null,
   "id": "58c5ff97-1723-4764-9d15-efec973f5643",
   "metadata": {},
   "outputs": [],
   "source": [
    "data = pd.read_excel('futbolVeriNB.xlsx')"
   ]
  },
  {
   "cell_type": "code",
   "execution_count": null,
   "id": "b56648c3-386d-45a3-997e-02f27f77942f",
   "metadata": {},
   "outputs": [],
   "source": [
    "data = data.loc[(data['Position'] != 'GK') & (data['Goals'].notna()) & (data['Position'] != 'DF')]"
   ]
  },
  {
   "cell_type": "code",
   "execution_count": null,
   "id": "93ceff15-8be3-4511-b4d2-8e58e16c4b5b",
   "metadata": {},
   "outputs": [],
   "source": [
    "data.loc[:, 'isScored?'] = data['Goals'].apply(lambda x: 1 if x > 0 else 0)"
   ]
  },
  {
   "cell_type": "code",
   "execution_count": null,
   "id": "b6a2ba47-fd26-4305-989f-eca135958b26",
   "metadata": {},
   "outputs": [],
   "source": [
    "data[\"Min\"] = data[\"Min\"].astype(str).str.replace(',', '', regex=True).astype(int)"
   ]
  },
  {
   "cell_type": "code",
   "execution_count": null,
   "id": "dde3292f-4ae0-46e8-9706-4301a4359cfb",
   "metadata": {},
   "outputs": [],
   "source": [
    "X = data.loc[:, [\"Position\" ,\"Min\", \"xG\", \"Shots\", \"ShotsOnTarget\", \"PrgR\", \"PrgCarryingDist\", \"Touches_Att_Pen\", \"CarriesIntoPenaltyArea\", \"GCA_Shot\"]]\n",
    "y = data.loc[:, [\"isScored?\"]]"
   ]
  },
  {
   "cell_type": "code",
   "execution_count": null,
   "id": "4aa1c65d-29ee-4c1d-a4ea-11d149b71c03",
   "metadata": {
    "scrolled": true
   },
   "outputs": [],
   "source": [
    "data[data['isScored?'] == False]"
   ]
  },
  {
   "cell_type": "code",
   "execution_count": null,
   "id": "33f54d44-e88e-4026-9cc5-e8389dd5cc2b",
   "metadata": {},
   "outputs": [],
   "source": [
    "from sklearn.compose import ColumnTransformer\n",
    "from sklearn.preprocessing import OneHotEncoder\n",
    "ct = ColumnTransformer(transformers=[('encoder', OneHotEncoder(), [0])], remainder='passthrough')\n",
    "X = np.array(ct.fit_transform(X))"
   ]
  },
  {
   "cell_type": "code",
   "execution_count": null,
   "id": "3dae80d7-cec9-4ec7-97fb-415a01bf3f82",
   "metadata": {},
   "outputs": [],
   "source": [
    "from sklearn.model_selection import train_test_split\n",
    "X_train, X_test, y_train, y_test = train_test_split(X, y, test_size=0.25, random_state=42)"
   ]
  },
  {
   "cell_type": "code",
   "execution_count": null,
   "id": "6547665c-044a-4591-9162-448a03e2c943",
   "metadata": {},
   "outputs": [],
   "source": [
    "from sklearn.preprocessing import StandardScaler\n",
    "sc = StandardScaler()\n",
    "X_train = sc.fit_transform(X_train)\n",
    "X_test = sc.transform(X_test)"
   ]
  },
  {
   "cell_type": "code",
   "execution_count": null,
   "id": "dd810429-58f2-4c5b-958a-ca6c536fcc10",
   "metadata": {},
   "outputs": [],
   "source": [
    "y_train = y_train.values.reshape(-1)\n",
    "y_test = y_test.values.reshape(-1)"
   ]
  },
  {
   "cell_type": "code",
   "execution_count": null,
   "id": "5620c0a4-7fc0-4db1-b222-0ecf8922a4d1",
   "metadata": {},
   "outputs": [],
   "source": [
    "import numpy as np\n",
    "\n",
    "class GaussianNB:\n",
    "    def __init__(self, var_smoothing=1e-9):\n",
    "        self.var_smoothing = var_smoothing\n",
    "\n",
    "    def fit(self, X, y):\n",
    "        self.classes_ = np.unique(y)\n",
    "        n_features = X.shape[1]\n",
    "        n_classes = len(self.classes_)\n",
    "\n",
    "        self.theta_ = np.zeros((n_classes, n_features))\n",
    "        self.var_ = np.zeros((n_classes, n_features))\n",
    "        self.class_prior_ = np.zeros(n_classes)\n",
    "\n",
    "        for i, c in enumerate(self.classes_):\n",
    "            X_c = X[y == c]\n",
    "            self.theta_[i] = np.mean(X_c, axis=0)\n",
    "            self.var_[i] = np.var(X_c, axis=0) + self.var_smoothing\n",
    "            self.class_prior_[i] = X_c.shape[0] / X.shape[0]\n",
    "\n",
    "    def predict(self, X):\n",
    "        log_likelihood = []\n",
    "        for i in range(len(self.classes_)):\n",
    "            prior = np.log(self.class_prior_[i])\n",
    "            likelihood = -0.5 * np.sum(np.log(2 * np.pi * self.var_[i]))\n",
    "            likelihood -= 0.5 * np.sum(((X - self.theta_[i]) ** 2) / self.var_[i], axis=1)\n",
    "            log_likelihood.append(prior + likelihood)\n",
    "\n",
    "        return self.classes_[np.argmax(np.array(log_likelihood).T, axis=1)]"
   ]
  },
  {
   "cell_type": "code",
   "execution_count": null,
   "id": "67fef240-cb54-4378-80c7-73b26d3ddd36",
   "metadata": {},
   "outputs": [],
   "source": [
    "classifier = GaussianNB()\n",
    "import time\n",
    "\n",
    "startTime = time.time()\n",
    "\n",
    "classifier.fit(X_train, y_train)\n",
    "\n",
    "endTime = time.time()\n",
    "\n",
    "elapsedTime = endTime - startTime\n",
    "print(f\"Gecen sure: {elapsedTime:.6f} saniye\")"
   ]
  },
  {
   "cell_type": "code",
   "execution_count": null,
   "id": "c9593f94-9971-472c-8c77-3bfa869b0500",
   "metadata": {
    "scrolled": true
   },
   "outputs": [],
   "source": [
    "import time\n",
    "\n",
    "startTime = time.time()\n",
    "\n",
    "y_pred = classifier.predict(X_test)\n",
    "\n",
    "endTime = time.time()\n",
    "\n",
    "elapsedTime = endTime - startTime\n",
    "print(f\"Gecen sure: {elapsedTime:.6f} saniye\")\n",
    "\n",
    "print(np.concatenate((y_pred.reshape(len(y_pred),1), y_test.reshape(len(y_test),1)),1))"
   ]
  },
  {
   "cell_type": "code",
   "execution_count": null,
   "id": "45b6def9-a61d-42f9-9bfb-e17a9b48c0c1",
   "metadata": {},
   "outputs": [],
   "source": [
    "import seaborn as sns\n",
    "from sklearn.metrics import confusion_matrix, accuracy_score\n",
    "\n",
    "cm = confusion_matrix(y_test, y_pred)\n",
    "\n",
    "accuracy = accuracy_score(y_test, y_pred)\n",
    "print(f\"Accuracy: {accuracy}\")\n",
    "\n",
    "plt.figure(figsize=(8, 6))\n",
    "sns.heatmap(cm, annot=True, fmt='d', cmap='Blues', cbar=False, \n",
    "            xticklabels=['Gol atamadi', 'Gol atti'], \n",
    "            yticklabels=['Gol atamadi', 'Gol atti'])\n",
    "\n",
    "plt.title('Confusion Matrix')\n",
    "plt.xlabel('Predicted')\n",
    "plt.ylabel('True')\n",
    "plt.show()\n"
   ]
  },
  {
   "cell_type": "code",
   "execution_count": null,
   "id": "7ddc275b-0e36-4fdb-8980-750f2a635b58",
   "metadata": {},
   "outputs": [],
   "source": [
    "from sklearn.metrics import precision_score, recall_score, f1_score, confusion_matrix\n",
    "\n",
    "TP = cm[1, 1]\n",
    "TN = cm[0, 0]\n",
    "FP = cm[0, 1]\n",
    "FN = cm[1, 0]\n",
    "\n",
    "precision = TP / (TP + FP) if (TP + FP) != 0 else 0\n",
    "recall = TP / (TP + FN) if (TP + FN) != 0 else 0\n",
    "f1 = 2 * (precision * recall) / (precision + recall) if (precision + recall) != 0 else 0\n",
    "specificity = TN / (TN + FP) if (TN + FP) != 0 else 0\n",
    "fpr = FP / (FP + TN) if (FP + TN) != 0 else 0\n",
    "\n",
    "print(f\"Precision: {precision}\")\n",
    "print(f\"Recall: {recall}\")\n",
    "print(f\"F1-Score: {f1}\")\n",
    "print(f\"Specificity: {specificity}\")\n",
    "print(f\"False Positive Rate: {fpr}\")"
   ]
  }
 ],
 "metadata": {
  "kernelspec": {
   "display_name": "Python 3 (ipykernel)",
   "language": "python",
   "name": "python3"
  },
  "language_info": {
   "codemirror_mode": {
    "name": "ipython",
    "version": 3
   },
   "file_extension": ".py",
   "mimetype": "text/x-python",
   "name": "python",
   "nbconvert_exporter": "python",
   "pygments_lexer": "ipython3",
   "version": "3.12.7"
  }
 },
 "nbformat": 4,
 "nbformat_minor": 5
}
