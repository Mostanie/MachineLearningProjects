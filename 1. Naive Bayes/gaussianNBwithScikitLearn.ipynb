{
 "cells": [
  {
   "cell_type": "code",
   "execution_count": null,
   "id": "2038a1ac-c8e4-4c28-b916-3b807086f2a0",
   "metadata": {},
   "outputs": [],
   "source": [
    "import numpy as np\n",
    "import pandas as pd\n",
    "import matplotlib.pyplot as plt"
   ]
  },
  {
   "cell_type": "code",
   "execution_count": null,
   "id": "f0158759-f9ec-4cce-a974-334d8df1bea9",
   "metadata": {},
   "outputs": [],
   "source": [
    "data = pd.read_excel('futbolVeriNB.xlsx')"
   ]
  },
  {
   "cell_type": "code",
   "execution_count": null,
   "id": "2a128a7d-893d-4a19-a653-c97790c8063d",
   "metadata": {},
   "outputs": [],
   "source": [
    "data = data.loc[(data['Position'] != 'GK') & (data['Goals'].notna()) & (data['Position'] != 'DF')]"
   ]
  },
  {
   "cell_type": "code",
   "execution_count": null,
   "id": "7fd79152-0319-4622-bd84-bf074763c548",
   "metadata": {
    "scrolled": true
   },
   "outputs": [],
   "source": [
    "data.loc[:, 'isScored?'] = data['Goals'].apply(lambda x: 1 if x > 0 else 0)"
   ]
  },
  {
   "cell_type": "code",
   "execution_count": null,
   "id": "a3ae1396-306c-4ccb-9fcf-0b1cfb9f62fa",
   "metadata": {},
   "outputs": [],
   "source": [
    "data[\"Min\"] = data[\"Min\"].astype(str).str.replace(',', '', regex=True).astype(int)"
   ]
  },
  {
   "cell_type": "code",
   "execution_count": null,
   "id": "114c7329-0d1f-490c-9cd4-2bb99d8a0ec5",
   "metadata": {},
   "outputs": [],
   "source": [
    "X = data.loc[:, [\"Position\" ,\"Min\", \"xG\", \"Shots\", \"ShotsOnTarget\", \"PrgR\", \"PrgCarryingDist\", \"Touches_Att_Pen\", \"CarriesIntoPenaltyArea\", \"GCA_Shot\"]]\n",
    "y = data.loc[:, [\"isScored?\"]]"
   ]
  },
  {
   "cell_type": "code",
   "execution_count": null,
   "id": "e459ba21-d306-41d2-bb09-53a99551ff3f",
   "metadata": {},
   "outputs": [],
   "source": [
    "data[data['isScored?'] == False]"
   ]
  },
  {
   "cell_type": "code",
   "execution_count": null,
   "id": "333301ab-601c-4ff6-b84a-43ba753d4850",
   "metadata": {},
   "outputs": [],
   "source": [
    "from sklearn.compose import ColumnTransformer\n",
    "from sklearn.preprocessing import OneHotEncoder\n",
    "ct = ColumnTransformer(transformers=[('encoder', OneHotEncoder(), [0])], remainder='passthrough')\n",
    "X = np.array(ct.fit_transform(X))"
   ]
  },
  {
   "cell_type": "code",
   "execution_count": null,
   "id": "998954ab-1bc0-44c2-bc1a-d0b252a36416",
   "metadata": {},
   "outputs": [],
   "source": [
    "from sklearn.model_selection import train_test_split\n",
    "X_train, X_test, y_train, y_test = train_test_split(X, y, test_size=0.25, random_state=42)"
   ]
  },
  {
   "cell_type": "code",
   "execution_count": null,
   "id": "3b11d6da-32ed-4d5b-9597-c94d76e6fe99",
   "metadata": {},
   "outputs": [],
   "source": [
    "from sklearn.preprocessing import StandardScaler\n",
    "sc = StandardScaler()\n",
    "X_train = sc.fit_transform(X_train)\n",
    "X_test = sc.transform(X_test)"
   ]
  },
  {
   "cell_type": "code",
   "execution_count": null,
   "id": "58a80d24-bff2-483b-8f18-b059cb6c0c5b",
   "metadata": {},
   "outputs": [],
   "source": [
    "y_train = y_train.values.reshape(-1)\n",
    "y_test = y_test.values.reshape(-1)"
   ]
  },
  {
   "cell_type": "code",
   "execution_count": null,
   "id": "e5c8fe75-31c5-44e4-97d6-59aa7f8ab0d5",
   "metadata": {},
   "outputs": [],
   "source": [
    "from sklearn.naive_bayes import GaussianNB\n",
    "classifier = GaussianNB()\n",
    "\n",
    "import time\n",
    "\n",
    "startTime = time.time()\n",
    "\n",
    "classifier.fit(X_train, y_train)\n",
    "\n",
    "endTime = time.time()\n",
    "\n",
    "elapsedTime = endTime - startTime\n",
    "print(f\"Gecen sure: {elapsedTime:.6f} saniye\")"
   ]
  },
  {
   "cell_type": "code",
   "execution_count": null,
   "id": "ef20a6d6-52ca-4971-936e-68a804b5e490",
   "metadata": {
    "scrolled": true
   },
   "outputs": [],
   "source": [
    "import time\n",
    "\n",
    "startTime = time.time()\n",
    "\n",
    "y_pred = classifier.predict(X_test)\n",
    "\n",
    "endTime = time.time()\n",
    "\n",
    "elapsedTime = endTime - startTime\n",
    "print(f\"Gecen sure: {elapsedTime:.6f} saniye\")\n",
    "\n",
    "print(np.concatenate((y_pred.reshape(len(y_pred),1), y_test.reshape(len(y_test),1)),1))"
   ]
  },
  {
   "cell_type": "code",
   "execution_count": null,
   "id": "d927fd55-629d-4358-8eae-99a706ecb966",
   "metadata": {},
   "outputs": [],
   "source": [
    "import seaborn as sns\n",
    "from sklearn.metrics import confusion_matrix, accuracy_score\n",
    "\n",
    "cm = confusion_matrix(y_test, y_pred)\n",
    "\n",
    "accuracy = accuracy_score(y_test, y_pred)\n",
    "print(f\"Accuracy: {accuracy}\")\n",
    "\n",
    "plt.figure(figsize=(8, 6))\n",
    "sns.heatmap(cm, annot=True, fmt='d', cmap='Blues', cbar=False, \n",
    "            xticklabels=['Gol atamadi', 'Gol atti'], \n",
    "            yticklabels=['Gol atamadi', 'Gol atti'])\n",
    "\n",
    "plt.title('Confusion Matrix')\n",
    "plt.xlabel('Predicted')\n",
    "plt.ylabel('True')\n",
    "plt.show()\n"
   ]
  },
  {
   "cell_type": "code",
   "execution_count": null,
   "id": "f5581b73-a6fa-4880-81c6-37e11d9b92f5",
   "metadata": {},
   "outputs": [],
   "source": [
    "from sklearn.metrics import precision_score, recall_score, f1_score, confusion_matrix\n",
    "\n",
    "TP = cm[1, 1]\n",
    "TN = cm[0, 0]\n",
    "FP = cm[0, 1]\n",
    "FN = cm[1, 0]\n",
    "\n",
    "precision = TP / (TP + FP) if (TP + FP) != 0 else 0\n",
    "recall = TP / (TP + FN) if (TP + FN) != 0 else 0\n",
    "f1 = 2 * (precision * recall) / (precision + recall) if (precision + recall) != 0 else 0\n",
    "specificity = TN / (TN + FP) if (TN + FP) != 0 else 0\n",
    "fpr = FP / (FP + TN) if (FP + TN) != 0 else 0\n",
    "\n",
    "print(f\"Precision: {precision}\")\n",
    "print(f\"Recall: {recall}\")\n",
    "print(f\"F1-Score: {f1}\")\n",
    "print(f\"Specificity: {specificity}\")\n",
    "print(f\"False Positive Rate: {fpr}\")"
   ]
  }
 ],
 "metadata": {
  "kernelspec": {
   "display_name": "Python 3 (ipykernel)",
   "language": "python",
   "name": "python3"
  },
  "language_info": {
   "codemirror_mode": {
    "name": "ipython",
    "version": 3
   },
   "file_extension": ".py",
   "mimetype": "text/x-python",
   "name": "python",
   "nbconvert_exporter": "python",
   "pygments_lexer": "ipython3",
   "version": "3.12.7"
  }
 },
 "nbformat": 4,
 "nbformat_minor": 5
}
