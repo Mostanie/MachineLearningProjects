{
 "cells": [
  {
   "cell_type": "code",
   "execution_count": 64,
   "id": "e22b0d66-3226-4c8b-83d2-2df1976e8071",
   "metadata": {},
   "outputs": [],
   "source": [
    "import numpy as np\n",
    "import matplotlib.pyplot as plt\n",
    "import pandas as pd\n",
    "import time"
   ]
  },
  {
   "cell_type": "code",
   "execution_count": 65,
   "id": "6ad2014f-96a0-4699-b75f-564e6056254f",
   "metadata": {},
   "outputs": [],
   "source": [
    "dataset = pd.read_csv('fakeBills.csv', sep=';')\n",
    "dataset_cleaned = dataset.dropna()"
   ]
  },
  {
   "cell_type": "code",
   "execution_count": 66,
   "id": "63aed990-6496-4577-aa6f-206efe24337b",
   "metadata": {},
   "outputs": [],
   "source": [
    "X = dataset_cleaned.iloc[:, 1:]\n",
    "y = dataset_cleaned.iloc[:, 0]"
   ]
  },
  {
   "cell_type": "code",
   "execution_count": 67,
   "id": "2c0eb279-cc7a-45ed-9ca6-03050d7c439e",
   "metadata": {
    "scrolled": true
   },
   "outputs": [
    {
     "data": {
      "text/html": [
       "<div>\n",
       "<style scoped>\n",
       "    .dataframe tbody tr th:only-of-type {\n",
       "        vertical-align: middle;\n",
       "    }\n",
       "\n",
       "    .dataframe tbody tr th {\n",
       "        vertical-align: top;\n",
       "    }\n",
       "\n",
       "    .dataframe thead th {\n",
       "        text-align: right;\n",
       "    }\n",
       "</style>\n",
       "<table border=\"1\" class=\"dataframe\">\n",
       "  <thead>\n",
       "    <tr style=\"text-align: right;\">\n",
       "      <th></th>\n",
       "      <th>diagonal</th>\n",
       "      <th>height_left</th>\n",
       "      <th>height_right</th>\n",
       "      <th>margin_low</th>\n",
       "      <th>margin_up</th>\n",
       "      <th>length</th>\n",
       "    </tr>\n",
       "  </thead>\n",
       "  <tbody>\n",
       "    <tr>\n",
       "      <th>0</th>\n",
       "      <td>171.81</td>\n",
       "      <td>104.86</td>\n",
       "      <td>104.95</td>\n",
       "      <td>4.52</td>\n",
       "      <td>2.89</td>\n",
       "      <td>112.83</td>\n",
       "    </tr>\n",
       "    <tr>\n",
       "      <th>1</th>\n",
       "      <td>171.46</td>\n",
       "      <td>103.36</td>\n",
       "      <td>103.66</td>\n",
       "      <td>3.77</td>\n",
       "      <td>2.99</td>\n",
       "      <td>113.09</td>\n",
       "    </tr>\n",
       "    <tr>\n",
       "      <th>2</th>\n",
       "      <td>172.69</td>\n",
       "      <td>104.48</td>\n",
       "      <td>103.50</td>\n",
       "      <td>4.40</td>\n",
       "      <td>2.94</td>\n",
       "      <td>113.16</td>\n",
       "    </tr>\n",
       "    <tr>\n",
       "      <th>3</th>\n",
       "      <td>171.36</td>\n",
       "      <td>103.91</td>\n",
       "      <td>103.94</td>\n",
       "      <td>3.62</td>\n",
       "      <td>3.01</td>\n",
       "      <td>113.51</td>\n",
       "    </tr>\n",
       "    <tr>\n",
       "      <th>4</th>\n",
       "      <td>171.73</td>\n",
       "      <td>104.28</td>\n",
       "      <td>103.46</td>\n",
       "      <td>4.04</td>\n",
       "      <td>3.48</td>\n",
       "      <td>112.54</td>\n",
       "    </tr>\n",
       "    <tr>\n",
       "      <th>...</th>\n",
       "      <td>...</td>\n",
       "      <td>...</td>\n",
       "      <td>...</td>\n",
       "      <td>...</td>\n",
       "      <td>...</td>\n",
       "      <td>...</td>\n",
       "    </tr>\n",
       "    <tr>\n",
       "      <th>1495</th>\n",
       "      <td>171.75</td>\n",
       "      <td>104.38</td>\n",
       "      <td>104.17</td>\n",
       "      <td>4.42</td>\n",
       "      <td>3.09</td>\n",
       "      <td>111.28</td>\n",
       "    </tr>\n",
       "    <tr>\n",
       "      <th>1496</th>\n",
       "      <td>172.19</td>\n",
       "      <td>104.63</td>\n",
       "      <td>104.44</td>\n",
       "      <td>5.27</td>\n",
       "      <td>3.37</td>\n",
       "      <td>110.97</td>\n",
       "    </tr>\n",
       "    <tr>\n",
       "      <th>1497</th>\n",
       "      <td>171.80</td>\n",
       "      <td>104.01</td>\n",
       "      <td>104.12</td>\n",
       "      <td>5.51</td>\n",
       "      <td>3.36</td>\n",
       "      <td>111.95</td>\n",
       "    </tr>\n",
       "    <tr>\n",
       "      <th>1498</th>\n",
       "      <td>172.06</td>\n",
       "      <td>104.28</td>\n",
       "      <td>104.06</td>\n",
       "      <td>5.17</td>\n",
       "      <td>3.46</td>\n",
       "      <td>112.25</td>\n",
       "    </tr>\n",
       "    <tr>\n",
       "      <th>1499</th>\n",
       "      <td>171.47</td>\n",
       "      <td>104.15</td>\n",
       "      <td>103.82</td>\n",
       "      <td>4.63</td>\n",
       "      <td>3.37</td>\n",
       "      <td>112.07</td>\n",
       "    </tr>\n",
       "  </tbody>\n",
       "</table>\n",
       "<p>1463 rows × 6 columns</p>\n",
       "</div>"
      ],
      "text/plain": [
       "      diagonal  height_left  height_right  margin_low  margin_up  length\n",
       "0       171.81       104.86        104.95        4.52       2.89  112.83\n",
       "1       171.46       103.36        103.66        3.77       2.99  113.09\n",
       "2       172.69       104.48        103.50        4.40       2.94  113.16\n",
       "3       171.36       103.91        103.94        3.62       3.01  113.51\n",
       "4       171.73       104.28        103.46        4.04       3.48  112.54\n",
       "...        ...          ...           ...         ...        ...     ...\n",
       "1495    171.75       104.38        104.17        4.42       3.09  111.28\n",
       "1496    172.19       104.63        104.44        5.27       3.37  110.97\n",
       "1497    171.80       104.01        104.12        5.51       3.36  111.95\n",
       "1498    172.06       104.28        104.06        5.17       3.46  112.25\n",
       "1499    171.47       104.15        103.82        4.63       3.37  112.07\n",
       "\n",
       "[1463 rows x 6 columns]"
      ]
     },
     "execution_count": 67,
     "metadata": {},
     "output_type": "execute_result"
    }
   ],
   "source": [
    "X"
   ]
  },
  {
   "cell_type": "code",
   "execution_count": 68,
   "id": "001b9f7f-add1-40d9-952c-791bf57e968a",
   "metadata": {},
   "outputs": [
    {
     "data": {
      "text/plain": [
       "0        True\n",
       "1        True\n",
       "2        True\n",
       "3        True\n",
       "4        True\n",
       "        ...  \n",
       "1495    False\n",
       "1496    False\n",
       "1497    False\n",
       "1498    False\n",
       "1499    False\n",
       "Name: is_genuine, Length: 1463, dtype: bool"
      ]
     },
     "execution_count": 68,
     "metadata": {},
     "output_type": "execute_result"
    }
   ],
   "source": [
    "y"
   ]
  },
  {
   "cell_type": "code",
   "execution_count": 69,
   "id": "740cac58-fa99-4c18-9f83-a3ab6c061b72",
   "metadata": {},
   "outputs": [],
   "source": [
    "from sklearn.model_selection import train_test_split\n",
    "X_train, X_test, y_train, y_test = train_test_split(X, y, test_size = 0.25, random_state = 0)"
   ]
  },
  {
   "cell_type": "code",
   "execution_count": 70,
   "id": "dc680778-ed8c-4fbb-80de-fe00bdee2b90",
   "metadata": {},
   "outputs": [
    {
     "name": "stdout",
     "output_type": "stream",
     "text": [
      "[[ 0.81696689  0.81228905  0.27107099 -0.38662937 -1.57238203  1.27270131]\n",
      " [-2.04328633 -0.25335841 -1.95267963  0.61691045 -1.70197006 -0.1188252 ]\n",
      " [-0.72822738  0.14625939  0.48726896  0.87539798  1.58092672 -1.06970165]\n",
      " ...\n",
      " [ 1.14573162 -0.18675545  0.33284184  0.17596113 -0.06052167 -1.75386885]\n",
      " [-0.43233912 -0.75288066  0.91966492  0.26719203 -1.70197006  0.65811043]\n",
      " [ 0.84984336 -0.22005693  0.14752929  0.69293619 -0.70846182  0.37980513]]\n",
      "[[-0.46521559  0.97879646  0.39461269  2.39591286 -0.53567778 -1.16247008]\n",
      " [ 0.4224492   0.07965642  1.04320662 -0.58429631 -0.88124586  1.15674076]\n",
      " [ 0.19231389 -0.05354951 -1.08788772  0.02390965 -1.65877405  0.04351956]\n",
      " ...\n",
      " [ 0.75121394  0.01305345  1.01232119 -0.47786026 -1.48599     0.29863275]\n",
      " [-0.8268568   1.54492168 -1.180544   -1.08606622  0.1986544   0.86683941]\n",
      " [-0.46521559 -1.78522664 -1.39674197  0.46485896 -0.1901097   0.8436473 ]]\n"
     ]
    }
   ],
   "source": [
    "from sklearn.preprocessing import StandardScaler\n",
    "sc = StandardScaler()\n",
    "X_train = sc.fit_transform(X_train)\n",
    "X_test = sc.transform(X_test)\n",
    "print(X_train)\n",
    "print(X_test)"
   ]
  },
  {
   "cell_type": "code",
   "execution_count": 71,
   "id": "2c502c43-603e-47a0-8903-7e5ec6185a86",
   "metadata": {},
   "outputs": [],
   "source": [
    "y_train = y_train.values.reshape(-1)\n",
    "y_test = y_test.values.reshape(-1)"
   ]
  },
  {
   "cell_type": "code",
   "execution_count": 72,
   "id": "10c1760b-c2ec-4042-83aa-b9f26ec2f1e7",
   "metadata": {},
   "outputs": [],
   "source": [
    "class LogisticRegression:\n",
    "    def __init__(self, learning_rate=0.001, n_iters=10000):\n",
    "        self.lr = learning_rate\n",
    "        self.n_iters = n_iters\n",
    "        self.weights = None\n",
    "        self.bias = None\n",
    "        \n",
    "    def _sigmoid(self, x):\n",
    "        return 1 / (1 + np.exp(-x))\n",
    "\n",
    "\n",
    "    def feed_forward(self,X):\n",
    "        z = np.dot(X, self.weights) + self.bias\n",
    "        A = self._sigmoid(z)\n",
    "        return A\n",
    "\n",
    "    def fit(self, X, y):\n",
    "        n_samples, n_features = X.shape\n",
    "\n",
    "        self.weights = np.zeros(n_features)\n",
    "        self.bias = 0\n",
    "\n",
    "        # gradient descent\n",
    "        for _ in range(self.n_iters):\n",
    "            A = self.feed_forward(X)\n",
    "            dz = A - y\n",
    "            dw = (1 / n_samples) * np.dot(X.T, dz)\n",
    "            db = (1 / n_samples) * np.sum(dz)\n",
    "            self.weights -= self.lr * dw\n",
    "            self.bias -= self.lr * db\n",
    "            \n",
    "    def predict(self, X):\n",
    "        threshold = .5\n",
    "        y_hat = np.dot(X, self.weights) + self.bias\n",
    "        y_predicted = self._sigmoid(y_hat)\n",
    "        y_predicted_cls = [1 if i > threshold else 0 for i in y_predicted]\n",
    "        \n",
    "        return np.array(y_predicted_cls)"
   ]
  },
  {
   "cell_type": "code",
   "execution_count": 73,
   "id": "3a92e2bb-a0d2-46e2-8f86-bb5d95f853fa",
   "metadata": {},
   "outputs": [
    {
     "name": "stdout",
     "output_type": "stream",
     "text": [
      "Gecen sure: 0.077785 saniye\n"
     ]
    }
   ],
   "source": [
    "classifier = LogisticRegression(learning_rate=0.001, n_iters=1000)\n",
    "\n",
    "startTime = time.time()\n",
    "\n",
    "classifier.fit(X_train, y_train)\n",
    "\n",
    "endTime = time.time()\n",
    "\n",
    "elapsedTime = endTime - startTime\n",
    "print(f\"Gecen sure: {elapsedTime:.6f} saniye\")"
   ]
  },
  {
   "cell_type": "code",
   "execution_count": 74,
   "id": "3f16d4e2-57e9-4530-9ca5-93beaf0fe731",
   "metadata": {
    "scrolled": true
   },
   "outputs": [
    {
     "name": "stdout",
     "output_type": "stream",
     "text": [
      "Gecen sure: 0.000000 saniye\n"
     ]
    }
   ],
   "source": [
    "startTime = time.time()\n",
    "\n",
    "y_pred = classifier.predict(X_test)\n",
    "\n",
    "endTime = time.time()\n",
    "\n",
    "elapsedTime = endTime - startTime\n",
    "\n",
    "print(f\"Gecen sure: {elapsedTime:.6f} saniye\")\n",
    "#print(np.concatenate((y_pred.reshape(len(y_pred),1), y_test.reshape(len(y_test),1)),1))"
   ]
  },
  {
   "cell_type": "code",
   "execution_count": 75,
   "id": "83b6bc00-bd7b-435a-a158-0dd90d9e3a62",
   "metadata": {},
   "outputs": [
    {
     "name": "stdout",
     "output_type": "stream",
     "text": [
      "Accuracy: 0.9754098360655737\n"
     ]
    },
    {
     "data": {
      "image/png": "[encoded data removed]",
      "text/plain": [
       "<Figure size 800x600 with 1 Axes>"
      ]
     },
     "metadata": {},
     "output_type": "display_data"
    }
   ],
   "source": [
    "import seaborn as sns\n",
    "from sklearn.metrics import confusion_matrix, accuracy_score\n",
    "\n",
    "cm = confusion_matrix(y_test, y_pred)\n",
    "\n",
    "accuracy = accuracy_score(y_test, y_pred)\n",
    "print(f\"Accuracy: {accuracy}\")\n",
    "\n",
    "plt.figure(figsize=(8, 6))\n",
    "sns.heatmap(cm, annot=True, fmt='d', cmap='Blues', cbar=False, \n",
    "            xticklabels=['Sahte', 'Gercek'], \n",
    "            yticklabels=['Sahte', 'Gercek'])\n",
    "\n",
    "plt.title('Confusion Matrix')\n",
    "plt.xlabel('Predicted')\n",
    "plt.ylabel('True')\n",
    "plt.show()"
   ]
  },
  {
   "cell_type": "code",
   "execution_count": 76,
   "id": "05f77fc6-d986-4c3a-a6bb-19b2e0cc9f41",
   "metadata": {},
   "outputs": [
    {
     "name": "stdout",
     "output_type": "stream",
     "text": [
      "Precision: 0.9957081545064378\n",
      "Recall: 0.9666666666666667\n",
      "F1-Score: 0.9809725158562368\n",
      "Specificity: 0.9920634920634921\n",
      "False Positive Rate: 0.007936507936507936\n"
     ]
    }
   ],
   "source": [
    "from sklearn.metrics import precision_score, recall_score, f1_score, confusion_matrix\n",
    "\n",
    "TP = cm[1, 1]\n",
    "TN = cm[0, 0]\n",
    "FP = cm[0, 1]\n",
    "FN = cm[1, 0]\n",
    "\n",
    "precision = TP / (TP + FP) if (TP + FP) != 0 else 0\n",
    "recall = TP / (TP + FN) if (TP + FN) != 0 else 0\n",
    "f1 = 2 * (precision * recall) / (precision + recall) if (precision + recall) != 0 else 0\n",
    "specificity = TN / (TN + FP) if (TN + FP) != 0 else 0\n",
    "fpr = FP / (FP + TN) if (FP + TN) != 0 else 0\n",
    "\n",
    "print(f\"Precision: {precision}\")\n",
    "print(f\"Recall: {recall}\")\n",
    "print(f\"F1-Score: {f1}\")\n",
    "print(f\"Specificity: {specificity}\")\n",
    "print(f\"False Positive Rate: {fpr}\")"
   ]
  },
  {
   "cell_type": "code",
   "execution_count": null,
   "id": "b9b46d57-0333-4f58-b1a9-28f9747e74ab",
   "metadata": {},
   "outputs": [],
   "source": []
  }
 ],
 "metadata": {
  "kernelspec": {
   "display_name": "Python 3 (ipykernel)",
   "language": "python",
   "name": "python3"
  },
  "language_info": {
   "codemirror_mode": {
    "name": "ipython",
    "version": 3
   },
   "file_extension": ".py",
   "mimetype": "text/x-python",
   "name": "python",
   "nbconvert_exporter": "python",
   "pygments_lexer": "ipython3",
   "version": "3.12.7"
  }
 },
 "nbformat": 4,
 "nbformat_minor": 5
}
